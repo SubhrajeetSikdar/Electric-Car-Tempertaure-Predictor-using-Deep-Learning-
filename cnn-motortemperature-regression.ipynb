{
 "cells": [
  {
   "cell_type": "code",
   "execution_count": 1,
   "metadata": {
    "_cell_guid": "b1076dfc-b9ad-4769-8c92-a6c4dae69d19",
    "_uuid": "8f2839f25d086af736a60e9eeb907d3b93b6e0e5",
    "execution": {
     "iopub.execute_input": "2021-01-29T18:02:23.844628Z",
     "iopub.status.busy": "2021-01-29T18:02:23.843952Z",
     "iopub.status.idle": "2021-01-29T18:02:26.285968Z",
     "shell.execute_reply": "2021-01-29T18:02:26.285253Z"
    },
    "papermill": {
     "duration": 2.46333,
     "end_time": "2021-01-29T18:02:26.286171",
     "exception": false,
     "start_time": "2021-01-29T18:02:23.822841",
     "status": "completed"
    },
    "tags": []
   },
   "outputs": [
    {
     "name": "stdout",
     "output_type": "stream",
     "text": [
      "/kaggle/input/electric-motor-temperature/pmsm_temperature_data.csv\n"
     ]
    }
   ],
   "source": [
    "import os\n",
    "import pandas as pd\n",
    "import numpy as np\n",
    "import matplotlib.pyplot as plt\n",
    "import seaborn as sns\n",
    "\n",
    "import torch\n",
    "import torch.nn as nn\n",
    "import torch.nn.functional as F\n",
    "import torch.optim as optim\n",
    "\n",
    "from sklearn.preprocessing import MinMaxScaler\n",
    "from sklearn.metrics import mean_absolute_error, r2_score\n",
    "\n",
    "torch.manual_seed(2)\n",
    "np.random.seed(2)\n",
    "\n",
    "\n",
    "for dirname, _, filenames in os.walk('/kaggle/input'):\n",
    "    for filename in filenames:\n",
    "        print(os.path.join(dirname, filename))"
   ]
  },
  {
   "cell_type": "code",
   "execution_count": 2,
   "metadata": {
    "execution": {
     "iopub.execute_input": "2021-01-29T18:02:26.326295Z",
     "iopub.status.busy": "2021-01-29T18:02:26.325673Z",
     "iopub.status.idle": "2021-01-29T18:02:29.320096Z",
     "shell.execute_reply": "2021-01-29T18:02:29.319506Z"
    },
    "papermill": {
     "duration": 3.016212,
     "end_time": "2021-01-29T18:02:29.320268",
     "exception": false,
     "start_time": "2021-01-29T18:02:26.304056",
     "status": "completed"
    },
    "tags": []
   },
   "outputs": [
    {
     "data": {
      "text/html": [
       "<div>\n",
       "<style scoped>\n",
       "    .dataframe tbody tr th:only-of-type {\n",
       "        vertical-align: middle;\n",
       "    }\n",
       "\n",
       "    .dataframe tbody tr th {\n",
       "        vertical-align: top;\n",
       "    }\n",
       "\n",
       "    .dataframe thead th {\n",
       "        text-align: right;\n",
       "    }\n",
       "</style>\n",
       "<table border=\"1\" class=\"dataframe\">\n",
       "  <thead>\n",
       "    <tr style=\"text-align: right;\">\n",
       "      <th></th>\n",
       "      <th>ambient</th>\n",
       "      <th>coolant</th>\n",
       "      <th>u_d</th>\n",
       "      <th>u_q</th>\n",
       "      <th>motor_speed</th>\n",
       "      <th>torque</th>\n",
       "      <th>i_d</th>\n",
       "      <th>i_q</th>\n",
       "      <th>pm</th>\n",
       "      <th>stator_yoke</th>\n",
       "      <th>stator_tooth</th>\n",
       "      <th>stator_winding</th>\n",
       "      <th>profile_id</th>\n",
       "    </tr>\n",
       "  </thead>\n",
       "  <tbody>\n",
       "    <tr>\n",
       "      <th>0</th>\n",
       "      <td>-0.752143</td>\n",
       "      <td>-1.118446</td>\n",
       "      <td>0.327935</td>\n",
       "      <td>-1.297858</td>\n",
       "      <td>-1.222428</td>\n",
       "      <td>-0.250182</td>\n",
       "      <td>1.029572</td>\n",
       "      <td>-0.245860</td>\n",
       "      <td>-2.522071</td>\n",
       "      <td>-1.831422</td>\n",
       "      <td>-2.066143</td>\n",
       "      <td>-2.018033</td>\n",
       "      <td>4</td>\n",
       "    </tr>\n",
       "    <tr>\n",
       "      <th>1</th>\n",
       "      <td>-0.771263</td>\n",
       "      <td>-1.117021</td>\n",
       "      <td>0.329665</td>\n",
       "      <td>-1.297686</td>\n",
       "      <td>-1.222429</td>\n",
       "      <td>-0.249133</td>\n",
       "      <td>1.029509</td>\n",
       "      <td>-0.245832</td>\n",
       "      <td>-2.522418</td>\n",
       "      <td>-1.830969</td>\n",
       "      <td>-2.064859</td>\n",
       "      <td>-2.017631</td>\n",
       "      <td>4</td>\n",
       "    </tr>\n",
       "    <tr>\n",
       "      <th>2</th>\n",
       "      <td>-0.782892</td>\n",
       "      <td>-1.116681</td>\n",
       "      <td>0.332771</td>\n",
       "      <td>-1.301822</td>\n",
       "      <td>-1.222428</td>\n",
       "      <td>-0.249431</td>\n",
       "      <td>1.029448</td>\n",
       "      <td>-0.245818</td>\n",
       "      <td>-2.522673</td>\n",
       "      <td>-1.830400</td>\n",
       "      <td>-2.064073</td>\n",
       "      <td>-2.017343</td>\n",
       "      <td>4</td>\n",
       "    </tr>\n",
       "    <tr>\n",
       "      <th>3</th>\n",
       "      <td>-0.780935</td>\n",
       "      <td>-1.116764</td>\n",
       "      <td>0.333700</td>\n",
       "      <td>-1.301852</td>\n",
       "      <td>-1.222430</td>\n",
       "      <td>-0.248636</td>\n",
       "      <td>1.032845</td>\n",
       "      <td>-0.246955</td>\n",
       "      <td>-2.521639</td>\n",
       "      <td>-1.830333</td>\n",
       "      <td>-2.063137</td>\n",
       "      <td>-2.017632</td>\n",
       "      <td>4</td>\n",
       "    </tr>\n",
       "    <tr>\n",
       "      <th>4</th>\n",
       "      <td>-0.774043</td>\n",
       "      <td>-1.116775</td>\n",
       "      <td>0.335206</td>\n",
       "      <td>-1.303118</td>\n",
       "      <td>-1.222429</td>\n",
       "      <td>-0.248701</td>\n",
       "      <td>1.031807</td>\n",
       "      <td>-0.246610</td>\n",
       "      <td>-2.521900</td>\n",
       "      <td>-1.830498</td>\n",
       "      <td>-2.062795</td>\n",
       "      <td>-2.018145</td>\n",
       "      <td>4</td>\n",
       "    </tr>\n",
       "  </tbody>\n",
       "</table>\n",
       "</div>"
      ],
      "text/plain": [
       "    ambient   coolant       u_d       u_q  motor_speed    torque       i_d  \\\n",
       "0 -0.752143 -1.118446  0.327935 -1.297858    -1.222428 -0.250182  1.029572   \n",
       "1 -0.771263 -1.117021  0.329665 -1.297686    -1.222429 -0.249133  1.029509   \n",
       "2 -0.782892 -1.116681  0.332771 -1.301822    -1.222428 -0.249431  1.029448   \n",
       "3 -0.780935 -1.116764  0.333700 -1.301852    -1.222430 -0.248636  1.032845   \n",
       "4 -0.774043 -1.116775  0.335206 -1.303118    -1.222429 -0.248701  1.031807   \n",
       "\n",
       "        i_q        pm  stator_yoke  stator_tooth  stator_winding  profile_id  \n",
       "0 -0.245860 -2.522071    -1.831422     -2.066143       -2.018033           4  \n",
       "1 -0.245832 -2.522418    -1.830969     -2.064859       -2.017631           4  \n",
       "2 -0.245818 -2.522673    -1.830400     -2.064073       -2.017343           4  \n",
       "3 -0.246955 -2.521639    -1.830333     -2.063137       -2.017632           4  \n",
       "4 -0.246610 -2.521900    -1.830498     -2.062795       -2.018145           4  "
      ]
     },
     "execution_count": 2,
     "metadata": {},
     "output_type": "execute_result"
    }
   ],
   "source": [
    "''' reading dataset '''\n",
    "df = pd.read_csv('../input/electric-motor-temperature/pmsm_temperature_data.csv')\n",
    "df.head()"
   ]
  },
  {
   "cell_type": "code",
   "execution_count": 3,
   "metadata": {
    "execution": {
     "iopub.execute_input": "2021-01-29T18:02:29.362525Z",
     "iopub.status.busy": "2021-01-29T18:02:29.361805Z",
     "iopub.status.idle": "2021-01-29T18:02:29.364607Z",
     "shell.execute_reply": "2021-01-29T18:02:29.364076Z"
    },
    "papermill": {
     "duration": 0.026286,
     "end_time": "2021-01-29T18:02:29.364757",
     "exception": false,
     "start_time": "2021-01-29T18:02:29.338471",
     "status": "completed"
    },
    "tags": []
   },
   "outputs": [],
   "source": [
    "''' column names '''\n",
    "col_names = df.columns.tolist()\n",
    "p_id = ['profile_id']\n",
    "\n",
    "t_list = ['pm', 'torque', 'stator_yoke', 'stator_tooth', 'stator_winding']\n",
    "feature_list = [col for col in col_names if col not in t_list and col not in p_id]"
   ]
  },
  {
   "cell_type": "code",
   "execution_count": 4,
   "metadata": {
    "execution": {
     "iopub.execute_input": "2021-01-29T18:02:29.407697Z",
     "iopub.status.busy": "2021-01-29T18:02:29.407072Z",
     "iopub.status.idle": "2021-01-29T18:02:29.457784Z",
     "shell.execute_reply": "2021-01-29T18:02:29.456919Z"
    },
    "papermill": {
     "duration": 0.073781,
     "end_time": "2021-01-29T18:02:29.457930",
     "exception": false,
     "start_time": "2021-01-29T18:02:29.384149",
     "status": "completed"
    },
    "tags": []
   },
   "outputs": [
    {
     "name": "stdout",
     "output_type": "stream",
     "text": [
      "<class 'pandas.core.frame.DataFrame'>\n",
      "RangeIndex: 998070 entries, 0 to 998069\n",
      "Data columns (total 13 columns):\n",
      " #   Column          Non-Null Count   Dtype  \n",
      "---  ------          --------------   -----  \n",
      " 0   ambient         998070 non-null  float64\n",
      " 1   coolant         998070 non-null  float64\n",
      " 2   u_d             998070 non-null  float64\n",
      " 3   u_q             998070 non-null  float64\n",
      " 4   motor_speed     998070 non-null  float64\n",
      " 5   torque          998070 non-null  float64\n",
      " 6   i_d             998070 non-null  float64\n",
      " 7   i_q             998070 non-null  float64\n",
      " 8   pm              998070 non-null  float64\n",
      " 9   stator_yoke     998070 non-null  float64\n",
      " 10  stator_tooth    998070 non-null  float64\n",
      " 11  stator_winding  998070 non-null  float64\n",
      " 12  profile_id      998070 non-null  int64  \n",
      "dtypes: float64(12), int64(1)\n",
      "memory usage: 99.0 MB\n"
     ]
    }
   ],
   "source": [
    "''' checking info of data '''\n",
    "df.info()"
   ]
  },
  {
   "cell_type": "code",
   "execution_count": 5,
   "metadata": {
    "execution": {
     "iopub.execute_input": "2021-01-29T18:02:29.538313Z",
     "iopub.status.busy": "2021-01-29T18:02:29.537730Z",
     "iopub.status.idle": "2021-01-29T18:02:29.571852Z",
     "shell.execute_reply": "2021-01-29T18:02:29.571326Z"
    },
    "papermill": {
     "duration": 0.058445,
     "end_time": "2021-01-29T18:02:29.571983",
     "exception": false,
     "start_time": "2021-01-29T18:02:29.513538",
     "status": "completed"
    },
    "tags": []
   },
   "outputs": [
    {
     "data": {
      "text/plain": [
       "[4, 6, 10, 11, 20, ..., 78, 79, 80, 81, 72]\n",
       "Length: 52\n",
       "Categories (52, int64): [4, 6, 10, 11, ..., 79, 80, 81, 72]"
      ]
     },
     "execution_count": 5,
     "metadata": {},
     "output_type": "execute_result"
    }
   ],
   "source": [
    "''' changing dtype '''\n",
    "df['profile_id'] = df.profile_id.astype('category')\n",
    "df.profile_id.unique()"
   ]
  },
  {
   "cell_type": "code",
   "execution_count": 6,
   "metadata": {
    "execution": {
     "iopub.execute_input": "2021-01-29T18:02:29.693959Z",
     "iopub.status.busy": "2021-01-29T18:02:29.692932Z",
     "iopub.status.idle": "2021-01-29T18:02:29.695895Z",
     "shell.execute_reply": "2021-01-29T18:02:29.695431Z"
    },
    "papermill": {
     "duration": 0.029035,
     "end_time": "2021-01-29T18:02:29.696023",
     "exception": false,
     "start_time": "2021-01-29T18:02:29.666988",
     "status": "completed"
    },
    "tags": []
   },
   "outputs": [],
   "source": [
    "''' Data preparation '''\n",
    "\n",
    "def build_seq(f_df, t_df, seq_length = 10):\n",
    "    \"\"\" Builds sequences from data and converts them into pytorch tensors  \"\"\"\n",
    "    data_ = []\n",
    "    target_ = []\n",
    "    \n",
    "    for i in range(int(f_df.shape[0]/seq_length)):\n",
    "        \n",
    "        data = torch.from_numpy(f_df.iloc[i: i + seq_length].values.T)\n",
    "        target = torch.from_numpy(t_df.iloc[i + seq_length + 1].values.T)\n",
    "        \n",
    "        data_.append(data)\n",
    "        target_.append(target)\n",
    "        \n",
    "    data = torch.stack(data_)\n",
    "    target = torch.stack(target_)\n",
    "    \n",
    "    \n",
    "    return data, target"
   ]
  },
  {
   "cell_type": "code",
   "execution_count": 7,
   "metadata": {
    "execution": {
     "iopub.execute_input": "2021-01-29T18:02:29.739632Z",
     "iopub.status.busy": "2021-01-29T18:02:29.739019Z",
     "iopub.status.idle": "2021-01-29T18:02:29.752995Z",
     "shell.execute_reply": "2021-01-29T18:02:29.753435Z"
    },
    "papermill": {
     "duration": 0.037957,
     "end_time": "2021-01-29T18:02:29.753596",
     "exception": false,
     "start_time": "2021-01-29T18:02:29.715639",
     "status": "completed"
    },
    "tags": []
   },
   "outputs": [
    {
     "name": "stdout",
     "output_type": "stream",
     "text": [
      "[4, 6, 10, 11, 20, 27, 29, 30, 31, 32, 36, 41, 42, 43, 44, 45, 46, 47, 48, 49, 50, 51, 52, 53, 54, 55, 56, 57, 58, 59, 60, 61, 62, 63, 64, 65, 66, 67, 68, 69, 70, 71, 73, 74, 75, 76, 77, 78, 79, 80, 81, 72]\n"
     ]
    }
   ],
   "source": [
    "''' unique values in profiel_id '''\n",
    "prof_ids = list(df.profile_id.unique())\n",
    "print(prof_ids)"
   ]
  },
  {
   "cell_type": "code",
   "execution_count": 8,
   "metadata": {
    "execution": {
     "iopub.execute_input": "2021-01-29T18:02:29.833816Z",
     "iopub.status.busy": "2021-01-29T18:02:29.833256Z",
     "iopub.status.idle": "2021-01-29T18:02:29.847863Z",
     "shell.execute_reply": "2021-01-29T18:02:29.847361Z"
    },
    "papermill": {
     "duration": 0.038762,
     "end_time": "2021-01-29T18:02:29.847997",
     "exception": false,
     "start_time": "2021-01-29T18:02:29.809235",
     "status": "completed"
    },
    "tags": []
   },
   "outputs": [],
   "source": [
    "prof_id = 6\n",
    "\n",
    "curr_df = df[df['profile_id'] == prof_id]\n",
    "\n",
    "''' dropping profile_id '''\n",
    "curr_df = curr_df.drop('profile_id', axis = 1)\n",
    "columns = curr_df.columns.tolist()"
   ]
  },
  {
   "cell_type": "code",
   "execution_count": 9,
   "metadata": {
    "execution": {
     "iopub.execute_input": "2021-01-29T18:02:29.894112Z",
     "iopub.status.busy": "2021-01-29T18:02:29.893536Z",
     "iopub.status.idle": "2021-01-29T18:02:29.915415Z",
     "shell.execute_reply": "2021-01-29T18:02:29.914888Z"
    },
    "papermill": {
     "duration": 0.047898,
     "end_time": "2021-01-29T18:02:29.915551",
     "exception": false,
     "start_time": "2021-01-29T18:02:29.867653",
     "status": "completed"
    },
    "tags": []
   },
   "outputs": [
    {
     "data": {
      "text/html": [
       "<div>\n",
       "<style scoped>\n",
       "    .dataframe tbody tr th:only-of-type {\n",
       "        vertical-align: middle;\n",
       "    }\n",
       "\n",
       "    .dataframe tbody tr th {\n",
       "        vertical-align: top;\n",
       "    }\n",
       "\n",
       "    .dataframe thead th {\n",
       "        text-align: right;\n",
       "    }\n",
       "</style>\n",
       "<table border=\"1\" class=\"dataframe\">\n",
       "  <thead>\n",
       "    <tr style=\"text-align: right;\">\n",
       "      <th></th>\n",
       "      <th>ambient</th>\n",
       "      <th>coolant</th>\n",
       "      <th>u_d</th>\n",
       "      <th>u_q</th>\n",
       "      <th>motor_speed</th>\n",
       "      <th>torque</th>\n",
       "      <th>i_d</th>\n",
       "      <th>i_q</th>\n",
       "      <th>pm</th>\n",
       "      <th>stator_yoke</th>\n",
       "      <th>stator_tooth</th>\n",
       "      <th>stator_winding</th>\n",
       "    </tr>\n",
       "  </thead>\n",
       "  <tbody>\n",
       "    <tr>\n",
       "      <th>0</th>\n",
       "      <td>0.422350</td>\n",
       "      <td>0.064550</td>\n",
       "      <td>0.495541</td>\n",
       "      <td>0.173390</td>\n",
       "      <td>0.000066</td>\n",
       "      <td>0.605967</td>\n",
       "      <td>0.957416</td>\n",
       "      <td>0.635014</td>\n",
       "      <td>0.000142</td>\n",
       "      <td>0.000600</td>\n",
       "      <td>0.000105</td>\n",
       "      <td>0.000711</td>\n",
       "    </tr>\n",
       "    <tr>\n",
       "      <th>1</th>\n",
       "      <td>0.424296</td>\n",
       "      <td>0.064815</td>\n",
       "      <td>0.495157</td>\n",
       "      <td>0.174028</td>\n",
       "      <td>0.000064</td>\n",
       "      <td>0.610011</td>\n",
       "      <td>0.955582</td>\n",
       "      <td>0.640728</td>\n",
       "      <td>0.000089</td>\n",
       "      <td>0.000826</td>\n",
       "      <td>0.000087</td>\n",
       "      <td>0.000582</td>\n",
       "    </tr>\n",
       "    <tr>\n",
       "      <th>2</th>\n",
       "      <td>0.425627</td>\n",
       "      <td>0.064977</td>\n",
       "      <td>0.494894</td>\n",
       "      <td>0.174470</td>\n",
       "      <td>0.000063</td>\n",
       "      <td>0.612710</td>\n",
       "      <td>0.954268</td>\n",
       "      <td>0.644823</td>\n",
       "      <td>0.000089</td>\n",
       "      <td>0.000758</td>\n",
       "      <td>0.000058</td>\n",
       "      <td>0.000427</td>\n",
       "    </tr>\n",
       "    <tr>\n",
       "      <th>3</th>\n",
       "      <td>0.426669</td>\n",
       "      <td>0.065209</td>\n",
       "      <td>0.494701</td>\n",
       "      <td>0.174815</td>\n",
       "      <td>0.000062</td>\n",
       "      <td>0.614798</td>\n",
       "      <td>0.953327</td>\n",
       "      <td>0.647756</td>\n",
       "      <td>0.000003</td>\n",
       "      <td>0.000342</td>\n",
       "      <td>0.000021</td>\n",
       "      <td>0.000326</td>\n",
       "    </tr>\n",
       "    <tr>\n",
       "      <th>4</th>\n",
       "      <td>0.427242</td>\n",
       "      <td>0.065387</td>\n",
       "      <td>0.494559</td>\n",
       "      <td>0.175044</td>\n",
       "      <td>0.000060</td>\n",
       "      <td>0.616119</td>\n",
       "      <td>0.952652</td>\n",
       "      <td>0.649859</td>\n",
       "      <td>0.000000</td>\n",
       "      <td>0.000086</td>\n",
       "      <td>0.000013</td>\n",
       "      <td>0.000273</td>\n",
       "    </tr>\n",
       "  </tbody>\n",
       "</table>\n",
       "</div>"
      ],
      "text/plain": [
       "    ambient   coolant       u_d       u_q  motor_speed    torque       i_d  \\\n",
       "0  0.422350  0.064550  0.495541  0.173390     0.000066  0.605967  0.957416   \n",
       "1  0.424296  0.064815  0.495157  0.174028     0.000064  0.610011  0.955582   \n",
       "2  0.425627  0.064977  0.494894  0.174470     0.000063  0.612710  0.954268   \n",
       "3  0.426669  0.065209  0.494701  0.174815     0.000062  0.614798  0.953327   \n",
       "4  0.427242  0.065387  0.494559  0.175044     0.000060  0.616119  0.952652   \n",
       "\n",
       "        i_q        pm  stator_yoke  stator_tooth  stator_winding  \n",
       "0  0.635014  0.000142     0.000600      0.000105        0.000711  \n",
       "1  0.640728  0.000089     0.000826      0.000087        0.000582  \n",
       "2  0.644823  0.000089     0.000758      0.000058        0.000427  \n",
       "3  0.647756  0.000003     0.000342      0.000021        0.000326  \n",
       "4  0.649859  0.000000     0.000086      0.000013        0.000273  "
      ]
     },
     "execution_count": 9,
     "metadata": {},
     "output_type": "execute_result"
    }
   ],
   "source": [
    "''' Scaling '''\n",
    "\n",
    "scaler = MinMaxScaler()\n",
    "''' fit on data '''\n",
    "curr_df = pd.DataFrame(scaler.fit_transform(curr_df), columns= columns)\n",
    "curr_df.head()"
   ]
  },
  {
   "cell_type": "code",
   "execution_count": 10,
   "metadata": {
    "execution": {
     "iopub.execute_input": "2021-01-29T18:02:30.069367Z",
     "iopub.status.busy": "2021-01-29T18:02:30.033279Z",
     "iopub.status.idle": "2021-01-29T18:02:31.182427Z",
     "shell.execute_reply": "2021-01-29T18:02:31.181888Z"
    },
    "papermill": {
     "duration": 1.205297,
     "end_time": "2021-01-29T18:02:31.182569",
     "exception": false,
     "start_time": "2021-01-29T18:02:29.977272",
     "status": "completed"
    },
    "tags": []
   },
   "outputs": [],
   "source": [
    "seq_l = 5\n",
    "\n",
    "X = curr_df[feature_list]\n",
    "y = curr_df[target_list][['pm']]\n",
    "\n",
    "data, target = build_seq(X, y, sequence_length=seq_l)"
   ]
  },
  {
   "cell_type": "code",
   "execution_count": 11,
   "metadata": {
    "execution": {
     "iopub.execute_input": "2021-01-29T18:02:31.227719Z",
     "iopub.status.busy": "2021-01-29T18:02:31.226984Z",
     "iopub.status.idle": "2021-01-29T18:02:31.231497Z",
     "shell.execute_reply": "2021-01-29T18:02:31.230937Z"
    },
    "papermill": {
     "duration": 0.029213,
     "end_time": "2021-01-29T18:02:31.231638",
     "exception": false,
     "start_time": "2021-01-29T18:02:31.202425",
     "status": "completed"
    },
    "tags": []
   },
   "outputs": [
    {
     "data": {
      "text/plain": [
       "torch.Size([8077, 7, 5])"
      ]
     },
     "execution_count": 11,
     "metadata": {},
     "output_type": "execute_result"
    }
   ],
   "source": [
    "''' checking shape of data '''\n",
    "data.shape"
   ]
  },
  {
   "cell_type": "code",
   "execution_count": 12,
   "metadata": {
    "execution": {
     "iopub.execute_input": "2021-01-29T18:02:31.319758Z",
     "iopub.status.busy": "2021-01-29T18:02:31.319115Z",
     "iopub.status.idle": "2021-01-29T18:02:31.327882Z",
     "shell.execute_reply": "2021-01-29T18:02:31.328376Z"
    },
    "papermill": {
     "duration": 0.036428,
     "end_time": "2021-01-29T18:02:31.328583",
     "exception": false,
     "start_time": "2021-01-29T18:02:31.292155",
     "status": "completed"
    },
    "tags": []
   },
   "outputs": [],
   "source": [
    "''' test size '''\n",
    "test_size = 0.05\n",
    "\n",
    "idx = torch.randperm(data.shape[0])\n",
    "\n",
    "train_idx = idx[:int(indices.shape[0] * (1-test_size))]\n",
    "test_idx = idx[int(indices.shape[0] * (1-test_size)):]\n",
    "\n",
    "''' X_train, X_test, y_train, y_test '''\n",
    "X_train, y_train = data[train_idx], target[train_idx]\n",
    "X_test, y_test = data[test_idx], target[test_idx]"
   ]
  },
  {
   "cell_type": "code",
   "execution_count": 13,
   "metadata": {
    "execution": {
     "iopub.execute_input": "2021-01-29T18:02:31.411406Z",
     "iopub.status.busy": "2021-01-29T18:02:31.410845Z",
     "iopub.status.idle": "2021-01-29T18:02:31.417009Z",
     "shell.execute_reply": "2021-01-29T18:02:31.416329Z"
    },
    "papermill": {
     "duration": 0.028537,
     "end_time": "2021-01-29T18:02:31.417140",
     "exception": false,
     "start_time": "2021-01-29T18:02:31.388603",
     "status": "completed"
    },
    "tags": []
   },
   "outputs": [],
   "source": [
    "class pms_dataset(torch.utils.data.dataset.Dataset):\n",
    "    \"\"\" Dataset with Rotor Temperature as Target \"\"\"\n",
    "    def __init__(self, data, target):\n",
    "        self.data = data\n",
    "        self.target = target\n",
    "        \n",
    "    def __len__(self):\n",
    "        return self.data.shape[0]\n",
    "    \n",
    "    def __getitem__(self, idx):\n",
    "        return self.data[idx].float(), self.target[idx].float()"
   ]
  },
  {
   "cell_type": "code",
   "execution_count": 14,
   "metadata": {
    "execution": {
     "iopub.execute_input": "2021-01-29T18:02:31.461581Z",
     "iopub.status.busy": "2021-01-29T18:02:31.460951Z",
     "iopub.status.idle": "2021-01-29T18:02:31.465063Z",
     "shell.execute_reply": "2021-01-29T18:02:31.465498Z"
    },
    "papermill": {
     "duration": 0.027861,
     "end_time": "2021-01-29T18:02:31.465671",
     "exception": false,
     "start_time": "2021-01-29T18:02:31.437810",
     "status": "completed"
    },
    "tags": []
   },
   "outputs": [],
   "source": [
    "batch_size = 10\n",
    "\n",
    "train_dataset = pms_dataset(X_train, y_train)\n",
    "train_loader = torch.utils.data.dataloader.DataLoader(train_dataset, batch_size= batch_size)\n",
    "\n",
    "test_dataset = pms_dataset(X_test, y_test)\n",
    "test_loader = torch.utils.data.dataloader.DataLoader(test_dataset, batch_size= 1)"
   ]
  },
  {
   "cell_type": "code",
   "execution_count": 15,
   "metadata": {
    "execution": {
     "iopub.execute_input": "2021-01-29T18:02:31.549083Z",
     "iopub.status.busy": "2021-01-29T18:02:31.548492Z",
     "iopub.status.idle": "2021-01-29T18:02:31.555123Z",
     "shell.execute_reply": "2021-01-29T18:02:31.555583Z"
    },
    "papermill": {
     "duration": 0.029934,
     "end_time": "2021-01-29T18:02:31.555743",
     "exception": false,
     "start_time": "2021-01-29T18:02:31.525809",
     "status": "completed"
    },
    "tags": []
   },
   "outputs": [],
   "source": [
    "class Model(nn.Module):\n",
    "    def __init__(self, sequence_length, n_features):\n",
    "        super(Network, self).__init__()\n",
    "        \n",
    "        self.sequence_length = sequence_length\n",
    "        self.n_features = n_features\n",
    "        \n",
    "        ''' Convolutional Layer'''\n",
    "        self.features = nn.Sequential(nn.Conv1d(n_features, 16, kernel_size=3), nn.ReLU(), nn.Conv1d(16,32, kernel_size=1))\n",
    "        \n",
    "        self.lin_in_size = self.get_lin_in_size()\n",
    "        ''' Linear Model'''\n",
    "        self.predictior = nn.Sequential(nn.Linear(self.lin_in_size,30), nn.ReLU(), nn.Linear(30, 1))\n",
    "        \n",
    "    def forward(self, x):\n",
    "        \n",
    "        x = self.features(x)\n",
    "        x = x.view(-1, self.lin_in_size)\n",
    "        x = self.predictior(x)\n",
    "        return x\n",
    "    \n",
    "    def get_size(self):\n",
    "        rand_in = torch.rand(10, self.n_features, self.sequence_length)\n",
    "        rand_out = self.features(rand_in)\n",
    "        return rand_out.shape[-1] * rand_out.shape[-2]\n",
    "        "
   ]
  },
  {
   "cell_type": "code",
   "execution_count": 16,
   "metadata": {
    "execution": {
     "iopub.execute_input": "2021-01-29T18:02:31.639063Z",
     "iopub.status.busy": "2021-01-29T18:02:31.638409Z",
     "iopub.status.idle": "2021-01-29T18:02:31.699306Z",
     "shell.execute_reply": "2021-01-29T18:02:31.698783Z"
    },
    "papermill": {
     "duration": 0.083628,
     "end_time": "2021-01-29T18:02:31.699450",
     "exception": false,
     "start_time": "2021-01-29T18:02:31.615822",
     "status": "completed"
    },
    "tags": []
   },
   "outputs": [],
   "source": [
    "''' cheking cuda if availabel '''\n",
    "device = 'cuda' if torch.cuda.is_available() else 'cpu'\n",
    "\n",
    "n_features = X_train.shape[-2]\n",
    "model = Model(sequence_length, n_features)\n",
    "\n",
    "''' loading model to cpu or gpu '''\n",
    "model = model.to(device)"
   ]
  },
  {
   "cell_type": "code",
   "execution_count": 17,
   "metadata": {
    "execution": {
     "iopub.execute_input": "2021-01-29T18:02:31.745121Z",
     "iopub.status.busy": "2021-01-29T18:02:31.744563Z",
     "iopub.status.idle": "2021-01-29T18:02:31.747295Z",
     "shell.execute_reply": "2021-01-29T18:02:31.746740Z"
    },
    "papermill": {
     "duration": 0.027681,
     "end_time": "2021-01-29T18:02:31.747427",
     "exception": false,
     "start_time": "2021-01-29T18:02:31.719746",
     "status": "completed"
    },
    "tags": []
   },
   "outputs": [],
   "source": [
    "lr = 0.001\n",
    "loss = nn.MSELoss()\n",
    "optim = optim.Adam(model.parameters(), lr=lr)"
   ]
  },
  {
   "cell_type": "code",
   "execution_count": 18,
   "metadata": {
    "execution": {
     "iopub.execute_input": "2021-01-29T18:02:31.838555Z",
     "iopub.status.busy": "2021-01-29T18:02:31.837956Z",
     "iopub.status.idle": "2021-01-29T18:02:31.841366Z",
     "shell.execute_reply": "2021-01-29T18:02:31.840897Z"
    },
    "papermill": {
     "duration": 0.033437,
     "end_time": "2021-01-29T18:02:31.841500",
     "exception": false,
     "start_time": "2021-01-29T18:02:31.808063",
     "status": "completed"
    },
    "tags": []
   },
   "outputs": [],
   "source": [
    "''' testing and training '''\n",
    "\n",
    "def test(net, test_loader, criterion):\n",
    "    \n",
    "    net.eval()\n",
    "    losses = []\n",
    "    for i, (data, target) in enumerate(test_loader):\n",
    "        data, target = model.to(device), target.to(device) \n",
    "        out = model(data)\n",
    "        loss = criterion(out, target)\n",
    "        losses.append(loss.item())  \n",
    "    \n",
    "    net.train()\n",
    "    return np.mean(losses)\n",
    "\n",
    "''' training function '''\n",
    "def train(n_epochs, net, train_loader, test_loader, optimizer, criterion, interval = 10):\n",
    "    net.train()\n",
    "    train_loss = []\n",
    "    test_loss = []\n",
    "    \n",
    "    for epoch in range(1,n_epochs+1):\n",
    "        running_loss = 0.0\n",
    "        batch_losses = []\n",
    "        \n",
    "        for i, (data, target) in enumerate(train_loader):\n",
    "            data, target = data.to(device), target.to(device) \n",
    "            \n",
    "            optimizer.zero_grad()\n",
    "            out = net(data)\n",
    "            loss = criterion(out, target)\n",
    "            batch_losses.append(loss.item())\n",
    "            \n",
    "            loss.backward()\n",
    "            optimizer.step()\n",
    "        \n",
    "        train_loss.append(np.mean(batch_losses))\n",
    "        \n",
    "        test_loss.append(test(net, test_loader, criterion))\n",
    "        \n",
    "        if epoch % interval==1:\n",
    "            print(\"Epoch {}, Training loss {:.6f}, Testing loss {:.6f}\".format(epoch, train_loss[-1], test_loss[-1]))\n",
    "    return train_loss, test_loss"
   ]
  },
  {
   "cell_type": "code",
   "execution_count": 19,
   "metadata": {
    "execution": {
     "iopub.execute_input": "2021-01-29T18:02:31.887159Z",
     "iopub.status.busy": "2021-01-29T18:02:31.886603Z",
     "iopub.status.idle": "2021-01-29T18:04:02.805043Z",
     "shell.execute_reply": "2021-01-29T18:04:02.804500Z"
    },
    "papermill": {
     "duration": 90.942593,
     "end_time": "2021-01-29T18:04:02.805183",
     "exception": false,
     "start_time": "2021-01-29T18:02:31.862590",
     "status": "completed"
    },
    "tags": []
   },
   "outputs": [
    {
     "name": "stdout",
     "output_type": "stream",
     "text": [
      "Epoch 1, Training loss 0.025562, Testing loss 0.015755\n",
      "Epoch 11, Training loss 0.000588, Testing loss 0.000609\n",
      "Epoch 21, Training loss 0.000802, Testing loss 0.000440\n",
      "Epoch 31, Training loss 0.000708, Testing loss 0.000303\n",
      "Epoch 41, Training loss 0.000613, Testing loss 0.000292\n"
     ]
    }
   ],
   "source": [
    "''' training '''\n",
    "train_loss, test_loss = train(50, net, train_loader, test_loader, optimizer, criterion)"
   ]
  },
  {
   "cell_type": "code",
   "execution_count": 20,
   "metadata": {
    "execution": {
     "iopub.execute_input": "2021-01-29T18:04:02.878906Z",
     "iopub.status.busy": "2021-01-29T18:04:02.861502Z",
     "iopub.status.idle": "2021-01-29T18:04:03.039479Z",
     "shell.execute_reply": "2021-01-29T18:04:03.038991Z"
    },
    "papermill": {
     "duration": 0.21178,
     "end_time": "2021-01-29T18:04:03.039622",
     "exception": false,
     "start_time": "2021-01-29T18:04:02.827842",
     "status": "completed"
    },
    "tags": []
   },
   "outputs": [
    {
     "data": {
      "image/png": "[encoded data removed]",
      "text/plain": [
       "<Figure size 432x288 with 1 Axes>"
      ]
     },
     "metadata": {
      "needs_background": "light"
     },
     "output_type": "display_data"
    }
   ],
   "source": [
    "''' train and test loss graph '''\n",
    "plt.plot(train_loss, label='Train')\n",
    "plt.plot(test_loss, label ='Test')\n",
    "plt.title(\"Loss vs Epoch\")\n",
    "plt.xlabel(\"Epoch\")\n",
    "plt.ylabel(\"Loss\")\n",
    "plt.legend()\n",
    "plt.show()"
   ]
  },
  {
   "cell_type": "code",
   "execution_count": 22,
   "metadata": {
    "execution": {
     "iopub.execute_input": "2021-01-29T18:04:03.245268Z",
     "iopub.status.busy": "2021-01-29T18:04:03.244302Z",
     "iopub.status.idle": "2021-01-29T18:04:03.253092Z",
     "shell.execute_reply": "2021-01-29T18:04:03.252543Z"
    },
    "papermill": {
     "duration": 0.038211,
     "end_time": "2021-01-29T18:04:03.253293",
     "exception": false,
     "start_time": "2021-01-29T18:04:03.215082",
     "status": "completed"
    },
    "tags": []
   },
   "outputs": [],
   "source": [
    "''' testing '''\n",
    "sc = Model(sequence_length,n_features)\n",
    "sc.load_state_dict(torch.load('./model_single_measurement.pt'))\n",
    "sc = sc.to(device)"
   ]
  },
  {
   "cell_type": "code",
   "execution_count": 23,
   "metadata": {
    "execution": {
     "iopub.execute_input": "2021-01-29T18:04:03.307611Z",
     "iopub.status.busy": "2021-01-29T18:04:03.306675Z",
     "iopub.status.idle": "2021-01-29T18:04:03.309276Z",
     "shell.execute_reply": "2021-01-29T18:04:03.309684Z"
    },
    "papermill": {
     "duration": 0.032245,
     "end_time": "2021-01-29T18:04:03.309860",
     "exception": false,
     "start_time": "2021-01-29T18:04:03.277615",
     "status": "completed"
    },
    "tags": []
   },
   "outputs": [],
   "source": [
    "\n",
    "def get_pred(net, loader):\n",
    "    \n",
    "    net.eval()\n",
    "    t = []\n",
    "    o = []\n",
    "    \n",
    "    for _, (data, target) in enumerate(loader):\n",
    "        ''' loading data and target on gpu or puc '''\n",
    "        data, target = data.to(device), target.to(device)\n",
    "        \n",
    "        out = net(data)\n",
    "\n",
    "        t.append(target.item())\n",
    "        o.append(out.item())\n",
    "    return t, o"
   ]
  },
  {
   "cell_type": "code",
   "execution_count": 24,
   "metadata": {
    "execution": {
     "iopub.execute_input": "2021-01-29T18:04:03.364055Z",
     "iopub.status.busy": "2021-01-29T18:04:03.363108Z",
     "iopub.status.idle": "2021-01-29T18:04:03.667274Z",
     "shell.execute_reply": "2021-01-29T18:04:03.667746Z"
    },
    "papermill": {
     "duration": 0.33406,
     "end_time": "2021-01-29T18:04:03.667912",
     "exception": false,
     "start_time": "2021-01-29T18:04:03.333852",
     "status": "completed"
    },
    "tags": []
   },
   "outputs": [
    {
     "data": {
      "image/png": "[encoded data removed]",
      "text/plain": [
       "<Figure size 360x360 with 1 Axes>"
      ]
     },
     "metadata": {
      "needs_background": "light"
     },
     "output_type": "display_data"
    }
   ],
   "source": [
    "''' plotting predicted and target plot '''\n",
    "targets, outputs = get_pred(model, test_loader)\n",
    "\n",
    "plt.figure(figsize=(5,5))\n",
    "plt.scatter(targets, outputs, s=10)\n",
    "plt.xlabel(\"Target\")\n",
    "plt.ylabel(\"Predicted\")\n",
    "plt.title(\"Predicted vs Target\")\n",
    "plt.show()"
   ]
  },
  {
   "cell_type": "code",
   "execution_count": 25,
   "metadata": {
    "execution": {
     "iopub.execute_input": "2021-01-29T18:04:03.722776Z",
     "iopub.status.busy": "2021-01-29T18:04:03.722144Z",
     "iopub.status.idle": "2021-01-29T18:04:03.724548Z",
     "shell.execute_reply": "2021-01-29T18:04:03.725010Z"
    },
    "papermill": {
     "duration": 0.032827,
     "end_time": "2021-01-29T18:04:03.725184",
     "exception": false,
     "start_time": "2021-01-29T18:04:03.692357",
     "status": "completed"
    },
    "tags": []
   },
   "outputs": [
    {
     "name": "stdout",
     "output_type": "stream",
     "text": [
      "R2 Score -  0.9861970550656437\n"
     ]
    }
   ],
   "source": [
    "''' R2 score '''\n",
    "print(\"R2 Score - \", r2_score(targets, outputs))"
   ]
  },
  {
   "cell_type": "code",
   "execution_count": null,
   "metadata": {},
   "outputs": [],
   "source": []
  },
  {
   "cell_type": "code",
   "execution_count": null,
   "metadata": {},
   "outputs": [],
   "source": []
  },
  {
   "cell_type": "code",
   "execution_count": null,
   "metadata": {},
   "outputs": [],
   "source": []
  },
  {
   "cell_type": "code",
   "execution_count": null,
   "metadata": {},
   "outputs": [],
   "source": []
  }
 ],
 "metadata": {
  "kernelspec": {
   "display_name": "Python 3",
   "language": "python",
   "name": "python3"
  },
  "language_info": {
   "codemirror_mode": {
    "name": "ipython",
    "version": 3
   },
   "file_extension": ".py",
   "mimetype": "text/x-python",
   "name": "python",
   "nbconvert_exporter": "python",
   "pygments_lexer": "ipython3",
   "version": "3.8.5"
  },
  "papermill": {
   "default_parameters": {},
   "duration": 106.762089,
   "end_time": "2021-01-29T18:04:04.758932",
   "environment_variables": {},
   "exception": null,
   "input_path": "__notebook__.ipynb",
   "output_path": "__notebook__.ipynb",
   "parameters": {},
   "start_time": "2021-01-29T18:02:17.996843",
   "version": "2.2.2"
  }
 },
 "nbformat": 4,
 "nbformat_minor": 4
}
